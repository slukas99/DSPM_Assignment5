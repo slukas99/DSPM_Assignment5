{
 "cells": [
  {
   "cell_type": "markdown",
   "id": "cf09a9d8",
   "metadata": {},
   "source": [
    "---\n",
    "\n",
    "# DS400: Assignment IV (Python)\n",
    "\n",
    "##### Lukas Schick (Student ID: 6291976)\n",
    "##### January 13th, 2022"
   ]
  },
  {
   "cell_type": "code",
   "execution_count": 7,
   "id": "32b4ae52",
   "metadata": {},
   "outputs": [],
   "source": [
    "import numpy as np\n",
    "import pandas as pd\n",
    "import requests\n",
    "import time\n",
    "from API_key_A5 import discoveryapi_key"
   ]
  },
  {
   "cell_type": "markdown",
   "id": "724c040f",
   "metadata": {},
   "source": [
    "# Exercise 7"
   ]
  },
  {
   "cell_type": "code",
   "execution_count": null,
   "id": "aa2c1683",
   "metadata": {},
   "outputs": [],
   "source": []
  }
 ],
 "metadata": {
  "kernelspec": {
   "display_name": "Python 3 (ipykernel)",
   "language": "python",
   "name": "python3"
  },
  "language_info": {
   "codemirror_mode": {
    "name": "ipython",
    "version": 3
   },
   "file_extension": ".py",
   "mimetype": "text/x-python",
   "name": "python",
   "nbconvert_exporter": "python",
   "pygments_lexer": "ipython3",
   "version": "3.9.15"
  }
 },
 "nbformat": 4,
 "nbformat_minor": 5
}
